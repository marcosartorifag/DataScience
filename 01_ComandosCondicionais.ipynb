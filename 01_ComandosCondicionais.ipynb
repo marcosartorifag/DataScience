{
 "cells": [
  {
   "cell_type": "code",
   "execution_count": null,
   "id": "25a63ad6",
   "metadata": {},
   "outputs": [],
   "source": [
    "nome = \"\"\n",
    "h = 0.00\n",
    "p = 0.00\n",
    "imc = 0.00\n",
    "\n",
    "print(\"Informe seu nome\")\n",
    "nome = input()\n",
    "print(\"Informe sua altura\")\n",
    "h = float(input())\n",
    "print(\"Informe seu peso\")\n",
    "p = float(input())\n",
    "\n",
    "imc = (p / pow(h, 2.00))\n",
    "\n",
    "print(nome, \"seu IMC é:\",round(imc,2))\n",
    "\n",
    "if (imc < 18.5):\n",
    "    print(\"Esse valor caracteriza magreza\")\n",
    "elif (imc >= 18.5 and imc <= 24.9):\n",
    "    print(\"Esse valor caracteriza normalidade\")\n",
    "elif (imc > 24.9 and imc <= 29.9):\n",
    "    print(\"Esse valor caracteriza sobrepeso\")\n",
    "elif (imc > 29.9 and imc <= 39.9):\n",
    "    print(\"Esse valor caracteriza obesidade grau II\")\n",
    "else:\n",
    "    print(\"Esse valor caracteriza obesidade grau III\")\n",
    "\n",
    "\n",
    "\n",
    "    "
   ]
  },
  {
   "cell_type": "code",
   "execution_count": null,
   "id": "56a7d664",
   "metadata": {},
   "outputs": [],
   "source": []
  }
 ],
 "metadata": {
  "kernelspec": {
   "display_name": "Python 3",
   "language": "python",
   "name": "python3"
  },
  "language_info": {
   "codemirror_mode": {
    "name": "ipython",
    "version": 3
   },
   "file_extension": ".py",
   "mimetype": "text/x-python",
   "name": "python",
   "nbconvert_exporter": "python",
   "pygments_lexer": "ipython3",
   "version": "3.8.8"
  }
 },
 "nbformat": 4,
 "nbformat_minor": 5
}
